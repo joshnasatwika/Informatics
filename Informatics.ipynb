{
  "nbformat": 4,
  "nbformat_minor": 0,
  "metadata": {
    "colab": {
      "provenance": []
    },
    "kernelspec": {
      "name": "python3",
      "display_name": "Python 3"
    },
    "language_info": {
      "name": "python"
    }
  },
  "cells": [
    {
      "cell_type": "code",
      "execution_count": 2,
      "metadata": {
        "colab": {
          "base_uri": "https://localhost:8080/"
        },
        "id": "Au4uIRHSzXv8",
        "outputId": "5dcb9a75-4aca-4dfb-d5a9-63f1ad92a04c"
      },
      "outputs": [
        {
          "output_type": "stream",
          "name": "stdout",
          "text": [
            "Number of unique userId values: 610\n"
          ]
        }
      ],
      "source": [
        "# How many unique \"userId\" are available in \"ratings.csv\"?\n",
        "import pandas as pd\n",
        "\n",
        "# Load the CSV file\n",
        "df = pd.read_csv('ratings.csv')\n",
        "\n",
        "# Find the number of unique userId values\n",
        "unique_user_ids = df['userId'].nunique()\n",
        "print(f\"Number of unique userId values: {unique_user_ids}\")\n"
      ]
    },
    {
      "cell_type": "code",
      "source": [
        "import pandas as pd\n",
        "\n",
        "# Load the CSV files\n",
        "ratings_df = pd.read_csv('ratings.csv')\n",
        "movies_df = pd.read_csv('movies.csv')\n",
        "\n",
        "# Count the number of ratings per movie\n",
        "ratings_count = ratings_df['movieId'].value_counts()\n",
        "\n",
        "# Find the movieId with the maximum number of ratings\n",
        "max_rated_movie_id = ratings_count.idxmax()\n",
        "\n",
        "# Get the movie title\n",
        "max_rated_movie_title = movies_df[movies_df['movieId'] == max_rated_movie_id]['title'].values[0]\n",
        "\n",
        "print(f\"Movie with the maximum number of ratings: {max_rated_movie_title}\")\n"
      ],
      "metadata": {
        "colab": {
          "base_uri": "https://localhost:8080/"
        },
        "id": "DAkZcrHA0CRu",
        "outputId": "eb5ca51a-3685-44dd-c048-244aaf84938d"
      },
      "execution_count": 3,
      "outputs": [
        {
          "output_type": "stream",
          "name": "stdout",
          "text": [
            "Movie with the maximum number of ratings: Forrest Gump (1994)\n"
          ]
        }
      ]
    },
    {
      "cell_type": "code",
      "source": [
        "import pandas as pd\n",
        "\n",
        "# Load the CSV files\n",
        "tags_df = pd.read_csv('tags.csv')\n",
        "movies_df = pd.read_csv('movies.csv')\n",
        "\n",
        "# Find the movieId for \"Matrix, The (1999)\"\n",
        "matrix_movie_id = movies_df[movies_df['title'] == 'Matrix, The (1999)']['movieId'].values[0]\n",
        "\n",
        "# Filter tags for the specific movieId\n",
        "tags_for_movie = tags_df[tags_df['movieId'] == matrix_movie_id]\n",
        "\n",
        "# Display the tags\n",
        "tags = tags_for_movie['tag'].unique()\n",
        "print(f\"Tags for 'Matrix, The (1999)': {', '.join(tags)}\")\n"
      ],
      "metadata": {
        "colab": {
          "base_uri": "https://localhost:8080/"
        },
        "id": "NoR1oMf90Ke1",
        "outputId": "09cc353b-69bb-4fdb-91be-a17cc18c1820"
      },
      "execution_count": 4,
      "outputs": [
        {
          "output_type": "stream",
          "name": "stdout",
          "text": [
            "Tags for 'Matrix, The (1999)': martial arts, sci-fi, alternate universe, philosophy, post apocalyptic\n"
          ]
        }
      ]
    },
    {
      "cell_type": "code",
      "source": [
        "#What is the average user rating for movie named \"Terminator 2: Judgment Day (1991)\"?\n",
        "import pandas as pd\n",
        "\n",
        "# Load the CSV files\n",
        "ratings_df = pd.read_csv('ratings.csv')\n",
        "movies_df = pd.read_csv('movies.csv')\n",
        "\n",
        "# Find the movieId for \"Terminator 2: Judgment Day (1991)\"\n",
        "terminator_movie_id = movies_df[movies_df['title'] == 'Terminator 2: Judgment Day (1991)']['movieId'].values[0]\n",
        "\n",
        "# Calculate the average rating for the specific movieId\n",
        "average_rating = ratings_df[ratings_df['movieId'] == terminator_movie_id]['rating'].mean()\n",
        "\n",
        "print(f\"Average rating for 'Terminator 2: Judgment Day (1991)': {average_rating:.2f}\")\n",
        "\n"
      ],
      "metadata": {
        "colab": {
          "base_uri": "https://localhost:8080/"
        },
        "id": "5087j9-X0YRn",
        "outputId": "47ff3f42-8cdb-4540-abc1-e653b5354892"
      },
      "execution_count": 6,
      "outputs": [
        {
          "output_type": "stream",
          "name": "stdout",
          "text": [
            "Average rating for 'Terminator 2: Judgment Day (1991)': 3.97\n"
          ]
        }
      ]
    },
    {
      "cell_type": "code",
      "source": [
        "import pandas as pd\n",
        "import matplotlib.pyplot as plt\n",
        "\n",
        "# Load the CSV files\n",
        "ratings_df = pd.read_csv('ratings.csv')\n",
        "movies_df = pd.read_csv('movies.csv')\n",
        "\n",
        "# Find the movieId for \"Fight Club (1999)\"\n",
        "fight_club_movie_id = movies_df[movies_df['title'] == 'Fight Club (1999)']['movieId'].values[0]\n",
        "\n",
        "# Filter ratings for the specific movieId\n",
        "ratings_for_movie = ratings_df[ratings_df['movieId'] == fight_club_movie_id]\n",
        "\n",
        "# Plot the distribution of ratings\n",
        "plt.figure(figsize=(10, 6))\n",
        "plt.hist(ratings_for_movie['rating'], bins=10, edgecolor='black')\n",
        "plt.title('Distribution of User Ratings for \"Fight Club (1999)\"')\n",
        "plt.xlabel('Rating')\n",
        "plt.ylabel('Frequency')\n",
        "plt.grid(True)\n",
        "plt.show()\n"
      ],
      "metadata": {
        "colab": {
          "base_uri": "https://localhost:8080/",
          "height": 564
        },
        "id": "5VuKkkgs0YT8",
        "outputId": "146ca3fc-77f2-4183-dfb7-695f8c3fe506"
      },
      "execution_count": 7,
      "outputs": [
        {
          "output_type": "display_data",
          "data": {
            "text/plain": [
              "<Figure size 1000x600 with 1 Axes>"
            ],
            "image/png": "[encoded data removed]"
          },
          "metadata": {}
        }
      ]
    },
    {
      "cell_type": "code",
      "source": [
        "import pandas as pd\n",
        "\n",
        "# Load the CSV files\n",
        "ratings_df = pd.read_csv('ratings.csv')\n",
        "movies_df = pd.read_csv('movies.csv')\n",
        "\n",
        "# Group by movieId and calculate count and mean of ratings\n",
        "grouped_ratings = ratings_df.groupby('movieId').agg(\n",
        "    rating_count=('rating', 'count'),\n",
        "    average_rating=('rating', 'mean')\n",
        ").reset_index()\n",
        "\n",
        "# Merge the grouped ratings with movies data\n",
        "merged_df = pd.merge(grouped_ratings, movies_df, on='movieId', how='inner')\n",
        "\n",
        "# Filter movies with more than 50 ratings\n",
        "filtered_movies = merged_df[merged_df['rating_count'] > 50]\n",
        "\n",
        "# Display the result\n",
        "print(filtered_movies[['movieId', 'title', 'rating_count', 'average_rating']])\n"
      ],
      "metadata": {
        "colab": {
          "base_uri": "https://localhost:8080/"
        },
        "id": "Vz5r34ma0YWs",
        "outputId": "4e63d531-2cc6-4864-823d-f19226709c6e"
      },
      "execution_count": 8,
      "outputs": [
        {
          "output_type": "stream",
          "name": "stdout",
          "text": [
            "      movieId                             title  rating_count  average_rating\n",
            "0           1                  Toy Story (1995)           215        3.920930\n",
            "1           2                    Jumanji (1995)           110        3.431818\n",
            "2           3           Grumpier Old Men (1995)            52        3.259615\n",
            "5           6                       Heat (1995)           102        3.946078\n",
            "6           7                    Sabrina (1995)            54        3.185185\n",
            "...       ...                               ...           ...             ...\n",
            "8287   106782   Wolf of Wall Street, The (2013)            54        3.916667\n",
            "8354   109374  Grand Budapest Hotel, The (2014)            52        3.778846\n",
            "8358   109487               Interstellar (2014)            73        3.993151\n",
            "8457   112852    Guardians of the Galaxy (2014)            59        4.050847\n",
            "8673   122904                   Deadpool (2016)            54        3.833333\n",
            "\n",
            "[436 rows x 4 columns]\n"
          ]
        }
      ]
    },
    {
      "cell_type": "code",
      "source": [
        "import pandas as pd\n",
        "\n",
        "# Load the CSV files\n",
        "ratings_df = pd.read_csv('ratings.csv')\n",
        "movies_df = pd.read_csv('movies.csv')\n",
        "\n",
        "# Group by movieId and calculate count and mean of ratings\n",
        "grouped_ratings = ratings_df.groupby('movieId').agg(\n",
        "    rating_count=('rating', 'count'),\n",
        "    average_rating=('rating', 'mean')\n",
        ").reset_index()\n",
        "\n",
        "# Merge the grouped ratings with movies data\n",
        "merged_df = pd.merge(grouped_ratings, movies_df, on='movieId', how='inner')\n",
        "\n",
        "# Filter movies with more than 50 ratings\n",
        "filtered_movies = merged_df[merged_df['rating_count'] > 50]\n",
        "\n",
        "# Find the movie with the highest average rating\n",
        "most_popular_movie = filtered_movies.loc[filtered_movies['average_rating'].idxmax()]\n",
        "\n",
        "# Display the result\n",
        "print(f\"Most popular movie based on average user ratings: {most_popular_movie['title']}\")\n",
        "print(f\"Average rating: {most_popular_movie['average_rating']:.2f}\")\n"
      ],
      "metadata": {
        "colab": {
          "base_uri": "https://localhost:8080/"
        },
        "id": "6Vj-3c_C1bE4",
        "outputId": "73a519c9-5422-4384-e02e-2e40c4379dc4"
      },
      "execution_count": 9,
      "outputs": [
        {
          "output_type": "stream",
          "name": "stdout",
          "text": [
            "Most popular movie based on average user ratings: Shawshank Redemption, The (1994)\n",
            "Average rating: 4.43\n"
          ]
        }
      ]
    },
    {
      "cell_type": "code",
      "source": [
        "import pandas as pd\n",
        "\n",
        "# Load the CSV files\n",
        "ratings_df = pd.read_csv('ratings.csv')\n",
        "movies_df = pd.read_csv('movies.csv')\n",
        "\n",
        "# Group by movieId and calculate count and mean of ratings\n",
        "grouped_ratings = ratings_df.groupby('movieId').agg(\n",
        "    rating_count=('rating', 'count'),\n",
        "    average_rating=('rating', 'mean')\n",
        ").reset_index()\n",
        "\n",
        "# Merge the grouped ratings with movies data\n",
        "merged_df = pd.merge(grouped_ratings, movies_df, on='movieId', how='inner')\n",
        "\n",
        "# Filter movies with more than 50 ratings\n",
        "filtered_movies = merged_df[merged_df['rating_count'] > 50]\n",
        "\n",
        "# Get the top 5 movies based on the number of user ratings\n",
        "top_5_movies = filtered_movies.nlargest(5, 'rating_count')\n",
        "\n",
        "# Display the result\n",
        "print(top_5_movies[['title', 'rating_count']])\n"
      ],
      "metadata": {
        "colab": {
          "base_uri": "https://localhost:8080/"
        },
        "id": "Eesa_rCn1bL7",
        "outputId": "1453828a-d3e4-449c-d3dc-2ce85b515f2b"
      },
      "execution_count": 10,
      "outputs": [
        {
          "output_type": "stream",
          "name": "stdout",
          "text": [
            "                                 title  rating_count\n",
            "314                Forrest Gump (1994)           329\n",
            "277   Shawshank Redemption, The (1994)           317\n",
            "257                Pulp Fiction (1994)           307\n",
            "510   Silence of the Lambs, The (1991)           279\n",
            "1938                Matrix, The (1999)           278\n"
          ]
        }
      ]
    },
    {
      "cell_type": "code",
      "source": [
        "import pandas as pd\n",
        "\n",
        "# Load the CSV files\n",
        "ratings_df = pd.read_csv('ratings.csv')\n",
        "movies_df = pd.read_csv('movies.csv')\n",
        "\n",
        "# Filter for Sci-Fi movies\n",
        "sci_fi_movies = movies_df[movies_df['genres'].str.contains('Sci-Fi')]\n",
        "\n",
        "# Group by movieId and calculate count of ratings\n",
        "grouped_ratings = ratings_df.groupby('movieId').agg(\n",
        "    rating_count=('rating', 'count')\n",
        ").reset_index()\n",
        "\n",
        "# Merge the grouped ratings with Sci-Fi movies data\n",
        "sci_fi_ratings = pd.merge(grouped_ratings, sci_fi_movies, on='movieId', how='inner')\n",
        "\n",
        "# Sort Sci-Fi movies by number of ratings in descending order\n",
        "sorted_sci_fi = sci_fi_ratings.sort_values(by='rating_count', ascending=False)\n",
        "\n",
        "# Get the third most popular Sci-Fi movie\n",
        "third_most_popular_sci_fi = sorted_sci_fi.iloc[2]  # Index 2 for the third position\n",
        "\n",
        "# Display the result\n",
        "print(f\"Third most popular Sci-Fi movie based on number of user ratings: {third_most_popular_sci_fi['title']}\")\n",
        "print(f\"Number of ratings: {third_most_popular_sci_fi['rating_count']}\")\n"
      ],
      "metadata": {
        "colab": {
          "base_uri": "https://localhost:8080/"
        },
        "id": "zGMXPIVj1bcm",
        "outputId": "a15d414e-4b27-466f-9796-3991226b84ad"
      },
      "execution_count": 11,
      "outputs": [
        {
          "output_type": "stream",
          "name": "stdout",
          "text": [
            "Third most popular Sci-Fi movie based on number of user ratings: Jurassic Park (1993)\n",
            "Number of ratings: 238\n"
          ]
        }
      ]
    },
    {
      "cell_type": "code",
      "source": [
        "pip install requests beautifulsoup4 pandas"
      ],
      "metadata": {
        "colab": {
          "base_uri": "https://localhost:8080/"
        },
        "id": "KjyxbXqs2daV",
        "outputId": "53a006f9-fdc6-4d26-8bc9-6e64120cdd47"
      },
      "execution_count": 18,
      "outputs": [
        {
          "output_type": "stream",
          "name": "stdout",
          "text": [
            "Requirement already satisfied: requests in /usr/local/lib/python3.10/dist-packages (2.32.3)\n",
            "Requirement already satisfied: beautifulsoup4 in /usr/local/lib/python3.10/dist-packages (4.12.3)\n",
            "Requirement already satisfied: pandas in /usr/local/lib/python3.10/dist-packages (2.1.4)\n",
            "Requirement already satisfied: charset-normalizer<4,>=2 in /usr/local/lib/python3.10/dist-packages (from requests) (3.3.2)\n",
            "Requirement already satisfied: idna<4,>=2.5 in /usr/local/lib/python3.10/dist-packages (from requests) (3.8)\n",
            "Requirement already satisfied: urllib3<3,>=1.21.1 in /usr/local/lib/python3.10/dist-packages (from requests) (2.0.7)\n",
            "Requirement already satisfied: certifi>=2017.4.17 in /usr/local/lib/python3.10/dist-packages (from requests) (2024.7.4)\n",
            "Requirement already satisfied: soupsieve>1.2 in /usr/local/lib/python3.10/dist-packages (from beautifulsoup4) (2.6)\n",
            "Requirement already satisfied: numpy<2,>=1.22.4 in /usr/local/lib/python3.10/dist-packages (from pandas) (1.26.4)\n",
            "Requirement already satisfied: python-dateutil>=2.8.2 in /usr/local/lib/python3.10/dist-packages (from pandas) (2.8.2)\n",
            "Requirement already satisfied: pytz>=2020.1 in /usr/local/lib/python3.10/dist-packages (from pandas) (2024.1)\n",
            "Requirement already satisfied: tzdata>=2022.1 in /usr/local/lib/python3.10/dist-packages (from pandas) (2024.1)\n",
            "Requirement already satisfied: six>=1.5 in /usr/local/lib/python3.10/dist-packages (from python-dateutil>=2.8.2->pandas) (1.16.0)\n"
          ]
        }
      ]
    },
    {
      "cell_type": "code",
      "source": [
        "import requests\n",
        "from bs4 import BeautifulSoup\n",
        "import time\n",
        "\n",
        "def scrape_imdb_reviews(imdb_id):\n",
        "    url = f'https://www.imdb.com/title/{imdb_id}/reviews'\n",
        "    headers = {\n",
        "        'User-Agent': 'Mozilla/5.0 (Windows NT 10.0; Win64; x64) AppleWebKit/537.36 (KHTML, like Gecko) Chrome/91.0.4472.124 Safari/537.36'\n",
        "    }\n",
        "\n",
        "    try:\n",
        "        response = requests.get(url, headers=headers)\n",
        "        if response.status_code == 404:\n",
        "            print(f\"Page not found for IMDb ID: {imdb_id}\")\n",
        "            return []\n",
        "\n",
        "        response.raise_for_status()  # Raise HTTPError for other bad responses\n",
        "\n",
        "        soup = BeautifulSoup(response.text, 'html.parser')\n",
        "        reviews = []\n",
        "\n",
        "        # Check if reviews are present in the page\n",
        "        for review in soup.find_all('div', class_='text show-more__control'):\n",
        "            reviews.append(review.get_text())\n",
        "\n",
        "        if not reviews:\n",
        "            print(f\"No reviews found for IMDb ID: {imdb_id}\")\n",
        "\n",
        "        return reviews\n",
        "\n",
        "    except requests.RequestException as e:\n",
        "        print(f\"Request error for IMDb ID: {imdb_id} - {e}\")\n",
        "        return []\n",
        "\n",
        "    except Exception as e:\n",
        "        print(f\"Error processing IMDb ID: {imdb_id} - {e}\")\n",
        "        return []\n",
        "\n",
        "# Example of using the updated function\n",
        "imdb_ids = ['tt114709', 'tt113497']  # Example IMDb IDs\n",
        "reviews_dict = {}\n",
        "\n",
        "for imdb_id in imdb_ids:\n",
        "    print(f\"Scraping reviews for IMDb ID: {imdb_id}\")\n",
        "    reviews = scrape_imdb_reviews(imdb_id)\n",
        "    if reviews:\n",
        "        reviews_dict[imdb_id] = reviews\n",
        "    time.sleep(2)  # Be polite and avoid hitting the server too hard\n",
        "\n",
        "# Save the reviews to a file or process them as needed\n",
        "with open('imdb_reviews.txt', 'w', encoding='utf-8') as f:\n",
        "    for imdb_id, reviews in reviews_dict.items():\n",
        "        f.write(f\"Reviews for IMDb ID {imdb_id}:\\n\")\n",
        "        for review in reviews:\n",
        "            f.write(f\"- {review}\\n\")\n",
        "        f.write(\"\\n\" + \"=\"*80 + \"\\n\\n\")\n",
        "\n",
        "print(\"Review scraping completed.\")\n",
        "\n"
      ],
      "metadata": {
        "colab": {
          "base_uri": "https://localhost:8080/"
        },
        "id": "xM-gqIb95GWW",
        "outputId": "99e14b4f-93d9-4476-b244-6384ffd9210d"
      },
      "execution_count": 16,
      "outputs": [
        {
          "output_type": "stream",
          "name": "stdout",
          "text": [
            "Scraping reviews for IMDb ID: tt114709\n",
            "Page not found for IMDb ID: tt114709\n",
            "Scraping reviews for IMDb ID: tt113497\n",
            "Page not found for IMDb ID: tt113497\n",
            "Review scraping completed.\n"
          ]
        }
      ]
    },
    {
      "cell_type": "code",
      "source": [
        "import pandas as pd\n",
        "\n",
        "# Example DataFrame\n",
        "data = {\n",
        "    'movieId': [1, 2, 3, 4],\n",
        "    'IMDb_rating': [7.9, 8.5, 9.0, 8.2]\n",
        "}\n",
        "df = pd.DataFrame(data)\n",
        "\n",
        "# Find the movie with the highest IMDb rating\n",
        "highest_rating_movie = df.loc[df['IMDb_rating'].idxmax()]\n",
        "\n",
        "# Output the movieId\n",
        "highest_movieId = highest_rating_movie['movieId']\n",
        "print(f\"The movieId with the highest IMDb rating is: {highest_movieId}\")\n"
      ],
      "metadata": {
        "colab": {
          "base_uri": "https://localhost:8080/"
        },
        "id": "azkmiwmM2CCR",
        "outputId": "7daf594d-6610-4d2f-e8d9-700e713d26e3"
      },
      "execution_count": 19,
      "outputs": [
        {
          "output_type": "stream",
          "name": "stdout",
          "text": [
            "The movieId with the highest IMDb rating is: 3.0\n"
          ]
        }
      ]
    },
    {
      "cell_type": "code",
      "source": [
        "import pandas as pd\n",
        "\n",
        "# Example DataFrame\n",
        "data = {\n",
        "    'movieId': [1, 2, 3, 4, 5],\n",
        "    'genres': ['Sci-Fi', 'Action', 'Sci-Fi', 'Drama', 'Sci-Fi'],\n",
        "    'IMDb_rating': [7.9, 8.5, 9.0, 8.2, 8.7]\n",
        "}\n",
        "df = pd.DataFrame(data)\n",
        "\n",
        "# Filter for Sci-Fi movies\n",
        "sci_fi_movies = df[df['genres'].str.contains('Sci-Fi')]\n",
        "\n",
        "# Find the Sci-Fi movie with the highest IMDb rating\n",
        "highest_rating_sci_fi_movie = sci_fi_movies.loc[sci_fi_movies['IMDb_rating'].idxmax()]\n",
        "\n",
        "# Output the movieId\n",
        "highest_sci_fi_movieId = highest_rating_sci_fi_movie['movieId']\n",
        "print(f\"The movieId of the highest-rated Sci-Fi movie is: {highest_sci_fi_movieId}\")\n"
      ],
      "metadata": {
        "colab": {
          "base_uri": "https://localhost:8080/"
        },
        "id": "8Vy1l_r72CJN",
        "outputId": "ff138f84-bf3f-42a9-c223-e62e51343095"
      },
      "execution_count": 20,
      "outputs": [
        {
          "output_type": "stream",
          "name": "stdout",
          "text": [
            "The movieId of the highest-rated Sci-Fi movie is: 3\n"
          ]
        }
      ]
    },
    {
      "cell_type": "code",
      "source": [],
      "metadata": {
        "id": "9xW0RUL62CL7"
      },
      "execution_count": null,
      "outputs": []
    }
  ]
}